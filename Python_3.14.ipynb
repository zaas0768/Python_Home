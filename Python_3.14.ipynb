{
 "cells": [
  {
   "cell_type": "code",
   "execution_count": 1,
   "metadata": {},
   "outputs": [
    {
     "name": "stdout",
     "output_type": "stream",
     "text": [
      "[120, 150, 300, 500, 1000, 100, 2000]\n"
     ]
    }
   ],
   "source": [
    "listVar = [120, 150, 300, 500, 1000, 100, 2000]\n",
    "print(listVar)"
   ]
  },
  {
   "cell_type": "code",
   "execution_count": 2,
   "metadata": {},
   "outputs": [
    {
     "name": "stdout",
     "output_type": "stream",
     "text": [
      "[120, 150, 300, 500, 1000, 100, 2000, 1500]\n"
     ]
    }
   ],
   "source": [
    "listVar.append(1500)\n",
    "print(listVar)"
   ]
  },
  {
   "cell_type": "code",
   "execution_count": 3,
   "metadata": {},
   "outputs": [
    {
     "name": "stdout",
     "output_type": "stream",
     "text": [
      "8\n"
     ]
    }
   ],
   "source": [
    "print(len(listVar))"
   ]
  },
  {
   "cell_type": "code",
   "execution_count": 4,
   "metadata": {},
   "outputs": [
    {
     "name": "stdout",
     "output_type": "stream",
     "text": [
      "[100, 120, 150, 300, 500, 1000, 1500, 2000]\n"
     ]
    }
   ],
   "source": [
    "listVar.sort(reverse = False)\n",
    "print(listVar)"
   ]
  },
  {
   "cell_type": "code",
   "execution_count": 5,
   "metadata": {},
   "outputs": [],
   "source": [
    "listVar.remove(100)"
   ]
  },
  {
   "cell_type": "code",
   "execution_count": 6,
   "metadata": {},
   "outputs": [],
   "source": [
    "listVar.remove(2000)"
   ]
  },
  {
   "cell_type": "code",
   "execution_count": 7,
   "metadata": {},
   "outputs": [],
   "source": [
    "listVar=sum(listVar)/len(listVar)"
   ]
  },
  {
   "cell_type": "code",
   "execution_count": 8,
   "metadata": {},
   "outputs": [
    {
     "name": "stdout",
     "output_type": "stream",
     "text": [
      "595.0\n"
     ]
    }
   ],
   "source": [
    "print(listVar)"
   ]
  },
  {
   "cell_type": "code",
   "execution_count": 19,
   "metadata": {},
   "outputs": [
    {
     "name": "stdout",
     "output_type": "stream",
     "text": [
      "[120, 150, 300, 500, 1000, 100, 2000]\n",
      "[100, 120, 150, 300, 500, 1000, 2000]\n",
      "0\n",
      "6\n",
      "[120, 150, 300, 500, 1000]\n",
      "414.0\n"
     ]
    }
   ],
   "source": [
    "dateList = [120,150,300,500,1000,100,2000]\n",
    "print(dateList)\n",
    "#sort 정렬 False 는 오름차순(작은순) True 내림차순(높은순)\n",
    "dateList.sort(reverse=False)\n",
    "print(dateList)\n",
    "len(dateList)\n",
    "print(dateList.index(100))\n",
    "print(dateList.index(2000))\n",
    "del dateList[0]\n",
    "# 길이가 길게 되면 일일히 계산 할 수 없기에 변수 길이에 -1로 함\n",
    "del dateList[len(dateList)-1]\n",
    "print(dateList)\n",
    "average1 = sum(dateList)/len(dateList)\n",
    "print(average1)"
   ]
  },
  {
   "cell_type": "code",
   "execution_count": 10,
   "metadata": {},
   "outputs": [
    {
     "name": "stdout",
     "output_type": "stream",
     "text": [
      "[120, 150, 200, 400, 500, 600]\n",
      "[150, 200, 400, 500]\n",
      "312.5\n"
     ]
    }
   ],
   "source": [
    "#리스트 길이가 짧아서 최소값과 최대값을 알고 있을때\n",
    "test_01 = [120,150,200,400,500,600]\n",
    "print(test_01)\n",
    "test_01.remove(120)\n",
    "test_01.remove(600)\n",
    "print(test_01)\n",
    "testAverage = sum(test_01)/len(test_01)\n",
    "print(testAverage)"
   ]
  },
  {
   "cell_type": "code",
   "execution_count": 11,
   "metadata": {},
   "outputs": [
    {
     "name": "stdout",
     "output_type": "stream",
     "text": [
      "30.0\n"
     ]
    }
   ],
   "source": [
    "# 간단하게 구하는 방법\n",
    "test_02 = [10,20,30,40,50]\n",
    "minTest = min(test_02)\n",
    "maxTest = max(test_02)\n",
    "test_02.remove(minTest)\n",
    "test_02.remove(maxTest)\n",
    "average2 = sum(test_02)/len(test_02)\n",
    "print(average2)"
   ]
  },
  {
   "cell_type": "code",
   "execution_count": 12,
   "metadata": {},
   "outputs": [
    {
     "data": {
      "text/plain": [
       "'Sec 2018W28 250'"
      ]
     },
     "execution_count": 12,
     "metadata": {},
     "output_type": "execute_result"
    }
   ],
   "source": [
    "a = \"Sec 2018W28 250\"\n",
    "a"
   ]
  },
  {
   "cell_type": "code",
   "execution_count": 13,
   "metadata": {},
   "outputs": [
    {
     "data": {
      "text/plain": [
       "'SEC 2018W28 250'"
      ]
     },
     "execution_count": 13,
     "metadata": {},
     "output_type": "execute_result"
    }
   ],
   "source": [
    "#()바꾸는 값, 지정한 값이 없이 공백일 경우 모두 변환\n",
    "a1=a.upper()\n",
    "a1"
   ]
  },
  {
   "cell_type": "code",
   "execution_count": 14,
   "metadata": {},
   "outputs": [
    {
     "data": {
      "text/plain": [
       "'SEC 201828 250'"
      ]
     },
     "execution_count": 14,
     "metadata": {},
     "output_type": "execute_result"
    }
   ],
   "source": [
    "#replace(\"찾을값\", \"바꿀값\", [바꿀횟수])\n",
    "a2=a1.replace(\"W\",\"\")\n",
    "a2"
   ]
  },
  {
   "cell_type": "code",
   "execution_count": 15,
   "metadata": {},
   "outputs": [
    {
     "name": "stdout",
     "output_type": "stream",
     "text": [
      "87.5\n"
     ]
    }
   ],
   "source": [
    "b = [30,60,90,20,360,170]\n",
    "#변수를 담을 새로운 그릇에다 최소값과 최대값을 담음\n",
    "minb = min(b)\n",
    "maxb = max(b)\n",
    "#그 담은 변수를 선언한 함수에서 제거 해줌\n",
    "b.remove(minb)\n",
    "b.remove(maxb)\n",
    "bAverage = sum(b)/len(b)\n",
    "print(bAverage)"
   ]
  },
  {
   "cell_type": "code",
   "execution_count": 16,
   "metadata": {},
   "outputs": [
    {
     "name": "stdout",
     "output_type": "stream",
     "text": [
      "WOW 2F00 300\n"
     ]
    }
   ],
   "source": [
    "c = \"wow 2A00 300\"\n",
    "c2 = c.replace(\"A\",\"F\")\n",
    "c1=c2.upper()\n",
    "print(c1)"
   ]
  },
  {
   "cell_type": "code",
   "execution_count": 31,
   "metadata": {},
   "outputs": [
    {
     "name": "stdout",
     "output_type": "stream",
     "text": [
      "smartanalytics\n"
     ]
    }
   ],
   "source": [
    "d = \"smart\"\n",
    "e = \"analytics\"\n",
    "#큰 따옴표 띄어쓰기 만큼 문자가 띄어짐\n",
    "cc = d+\"\"+e\n",
    "print(cc)"
   ]
  },
  {
   "cell_type": "code",
   "execution_count": 29,
   "metadata": {},
   "outputs": [
    {
     "name": "stdout",
     "output_type": "stream",
     "text": [
      "smart analytics\n"
     ]
    }
   ],
   "source": [
    "head = \"smart\"\n",
    "tail = \"analytics\"\n",
    "fullString = head+\" \"+tail\n",
    "print(fullString)"
   ]
  },
  {
   "cell_type": "code",
   "execution_count": null,
   "metadata": {},
   "outputs": [],
   "source": []
  }
 ],
 "metadata": {
  "kernelspec": {
   "display_name": "Python 3",
   "language": "python",
   "name": "python3"
  },
  "language_info": {
   "codemirror_mode": {
    "name": "ipython",
    "version": 3
   },
   "file_extension": ".py",
   "mimetype": "text/x-python",
   "name": "python",
   "nbconvert_exporter": "python",
   "pygments_lexer": "ipython3",
   "version": "3.7.1"
  }
 },
 "nbformat": 4,
 "nbformat_minor": 2
}
