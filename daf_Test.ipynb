{
 "cells": [
  {
   "cell_type": "markdown",
   "metadata": {},
   "source": [
    "## 1. 더하기 함수"
   ]
  },
  {
   "cell_type": "code",
   "execution_count": 38,
   "metadata": {},
   "outputs": [],
   "source": [
    "alist = [\"10\", \"10\", \"10\", \"10\"]\n",
    "blist = [\"20\", \"20\", \"20\", \"20\"]\n",
    "clist = [\"30\", \"30\", \"30\", \"30\"]"
   ]
  },
  {
   "cell_type": "code",
   "execution_count": 25,
   "metadata": {},
   "outputs": [],
   "source": [
    "def sumList(alist):\n",
    "    sum = 0\n",
    "    for i in range(0, len(alist)):\n",
    "        sum = sum + float(alist[i])\n",
    "    return sum    "
   ]
  },
  {
   "cell_type": "code",
   "execution_count": 36,
   "metadata": {},
   "outputs": [
    {
     "name": "stdout",
     "output_type": "stream",
     "text": [
      "120.0\n"
     ]
    }
   ],
   "source": [
    "sumList(alist + blist)"
   ]
  },
  {
   "cell_type": "code",
   "execution_count": null,
   "metadata": {},
   "outputs": [],
   "source": []
  },
  {
   "cell_type": "markdown",
   "metadata": {},
   "source": [
    "## 2. 함수 년도"
   ]
  },
  {
   "cell_type": "code",
   "execution_count": 5,
   "metadata": {},
   "outputs": [],
   "source": [
    "from isoweek import Week"
   ]
  },
  {
   "cell_type": "code",
   "execution_count": 6,
   "metadata": {},
   "outputs": [],
   "source": [
    "curryYear = 2016"
   ]
  },
  {
   "cell_type": "code",
   "execution_count": 7,
   "metadata": {},
   "outputs": [
    {
     "data": {
      "text/plain": [
       "52"
      ]
     },
     "execution_count": 7,
     "metadata": {},
     "output_type": "execute_result"
    }
   ],
   "source": [
    "# 일년에 몇주인지 알수 있는 문법\n",
    "Week.last_week_of_year(curryYear).week"
   ]
  },
  {
   "cell_type": "code",
   "execution_count": 18,
   "metadata": {},
   "outputs": [],
   "source": [
    "def preWeek(inputYearWeek, GapWeek):\n",
    "    if type(GapWeek):\n",
    "        GapWeek = int(GapWeek) # GapWeek를 int형으로 바꿔줌\n",
    "    strYearWeek = str(inputYearWeek) # inputYearWeek를 string으로 바꿔서 새로운 변수 strYearWeek에 넣어줌\n",
    "    currYear = strYearWeek[:4] # strYearWeek 4번째 행을 지정하여 새로운 변수 currYeak에 넣어줌 (년도만 지정됨 0~4)\n",
    "    intCurrYear = int(currYear) # curryYear을 int형으로 바꾼후 새로운 변수 intCurrYear에 넣어줌\n",
    "    currWeek = strYearWeek[-2:] # 이번에는 strYearWeek의 끝에서 2번째 행을 지정하여 currWeek에 넣어줌 (주만 지정됨 ) \n",
    "    intCurrWeek = int(currWeek) # currWeek를 int형으로 바꾼후 새로운 변수 intCurrWeek에 넣어줌\n",
    "    while intCurrWeek <= GapWeek: # 조건문인 while에서 intCurrWeek가 GapWeek 보다 크거나 같을때\n",
    "        intCurrYear -= 1        # intCurrYear에서 1씩 빼주고\n",
    "        GapWeek -= intCurrWeek  # GapWeek에서 intCurrWeek를 빼주며\n",
    "        intCurrWeek = Week.last_week_of_year(intCurrYear).week \n",
    "    intCurrWeek -= GapWeek  # intCurrWeek에 GapWeek를 빼라\n",
    "    year = str(intCurrYear) # intCurrYear을 string으로 바꿔서 새로운 변수 year에 넣어줌\n",
    "    week = str(intCurrWeek) # intCurrWeek도 string로 바꿔서 새로운 변수 week에 넣어줌\n",
    "    return year + week"
   ]
  },
  {
   "cell_type": "code",
   "execution_count": 14,
   "metadata": {},
   "outputs": [
    {
     "data": {
      "text/plain": [
       "'201648'"
      ]
     },
     "execution_count": 14,
     "metadata": {},
     "output_type": "execute_result"
    }
   ],
   "source": [
    "preWeek(\"201701\", 5)"
   ]
  },
  {
   "cell_type": "code",
   "execution_count": 12,
   "metadata": {},
   "outputs": [
    {
     "data": {
      "text/plain": [
       "'201710'"
      ]
     },
     "execution_count": 12,
     "metadata": {},
     "output_type": "execute_result"
    }
   ],
   "source": [
    "preWeek(201720, 10)"
   ]
  },
  {
   "cell_type": "code",
   "execution_count": 13,
   "metadata": {},
   "outputs": [
    {
     "data": {
      "text/plain": [
       "'201525'"
      ]
     },
     "execution_count": 13,
     "metadata": {},
     "output_type": "execute_result"
    }
   ],
   "source": [
    "preWeek(201720, \"100\")"
   ]
  },
  {
   "cell_type": "code",
   "execution_count": null,
   "metadata": {},
   "outputs": [],
   "source": []
  },
  {
   "cell_type": "code",
   "execution_count": 2,
   "metadata": {},
   "outputs": [],
   "source": [
    "intputYearWeek = \"201720\"\n",
    "GapWeek = 40"
   ]
  },
  {
   "cell_type": "code",
   "execution_count": null,
   "metadata": {},
   "outputs": [],
   "source": []
  },
  {
   "cell_type": "code",
   "execution_count": 22,
   "metadata": {},
   "outputs": [],
   "source": [
    "from isoweek import Week"
   ]
  },
  {
   "cell_type": "code",
   "execution_count": 23,
   "metadata": {},
   "outputs": [],
   "source": [
    "curryYear = 2016"
   ]
  },
  {
   "cell_type": "code",
   "execution_count": 24,
   "metadata": {},
   "outputs": [
    {
     "data": {
      "text/plain": [
       "52"
      ]
     },
     "execution_count": 24,
     "metadata": {},
     "output_type": "execute_result"
    }
   ],
   "source": [
    "Week.last_week_of_year(curryYear).week"
   ]
  },
  {
   "cell_type": "markdown",
   "metadata": {},
   "source": [
    "### 주차 빼기 함수 preWeek "
   ]
  },
  {
   "cell_type": "code",
   "execution_count": 25,
   "metadata": {},
   "outputs": [],
   "source": [
    "def preWeek(inputYearWeek, GapWeek):   ## 함수의 인자값 2개 설정, 아래 주석 설명을 위해 201720 , 40 이라고 예를들고 시작.\n",
    "    \n",
    "    if type(GapWeek) == str:     ## GapWeek 의 타입이 스트링값이라면? 아래로 내려감 스트링값이 아니면 신경안써도 되고~\n",
    "        \n",
    "        GapWeek = int(GapWeek)   ## 해당 GapWeek 값이 스트링이니까 int 형으로 형변환해주고 GapWeek 라는 변수에 담음\n",
    "        \n",
    "    strYearWeek = str(inputYearWeek) ## inputYearWeek(201720) 을 스트링 값으로 형변환 해주고 strYearWeek 라는 변수에 담음\n",
    "                                     ## 왜나하면 ex) inputYearWeek 이 201720 라고 하면 2017 과 20 을 따로 계산해 줘야 하기 때문임\n",
    "    currYear = strYearWeek[:4]       ## 2017에 해당하는 부분을 가져오기 위해 설정하고(앞에서부터 4칸의 값) currYear 라는 변수에 담음\n",
    "    \n",
    "    intCurrYear = int(currYear)      ## 현재 스트링 값인 currYear 를 int 형으로 형변환 하고 intCurrYear 에 담아줌. intCurrYear 이제 int형\n",
    "    \n",
    "    currWeek = strYearWeek[4:]  ## [-2:] , 201720의 뒤에 20 이라는 부분도 잘라서 currWeek 변수에 담아줌. 아직 스트링값임. \n",
    "    \n",
    "    intCurrWeek = int(currWeek)   ## 스트링 값인 currWeek 을 int 형으로 형변환 이후 intCurrWeek 라는 변수에 담아줌. intCurrWeek 이제 int형\n",
    "    \n",
    "    while intCurrWeek <= GapWeek: ## 인자값이 201720 과 40 이 들어왔다면, 현재 intCurrWeek 는 20 이고 GapWeek 는 40 이기때문에 while문 실행\n",
    "        \n",
    "        intCurrYear -= 1  ## 2017년20주에서 40주를 뺀다고 하면, 년도는 2016년이 되고 GapWeek 40에서 intCurrWeek 20주를 빼줘야 하기 때문에\n",
    "                          ## intCurrYear 즉, 2017년 -1을 해줌.\n",
    "        GapWeek -= intCurrWeek  ## GapWeek 40주에서 intCurrWeek 20주를 빼주고 그걸 GapWeek 다시 담음. GapWeek는 지금 20임.\n",
    "        \n",
    "        intCurrWeek = Week.last_week_of_year(intCurrYear).week ## 2016년의 마지막주가 몇주인지 확인해서 그걸 intCurrWeek 에 담아줌\n",
    "                                                               ## 위에서 GapWeek 40주에서 intCurrWeek 20주를 빼줫기 때문에 \n",
    "                                                               ## 201720 -> 2016(2016년이 몇주인지.) 를 알아야 하기 때문.\n",
    "                \n",
    "    intCurrWeek -= GapWeek  ## 위에서 구해진 intCurrWeek 에서 GapWeek 를 다시 빼주면 GapWeek는 0 이 될테고, intCurrWeek 최종값이 결정됨.                                        \n",
    "    \n",
    "    year = str(intCurrYear) ## intCurrYear 을 다시 스트링값으로 형변환 해주고(2017 과 20 을 잘라서 진행하고, 마지막엔 다시 합쳐야 해서) \n",
    "                            ## 형변환 해준 intCurrYear 를 year 변수에 담음 \n",
    "        \n",
    "    if intCurrWeek< 10:     ## 예외처리임 intCurrWeek 가 한자리 숫자면 앞에 0이 없이 출력되기 때문.\n",
    "                            ## ex) 201703 처럼 3주면 03이라고 나와야하는데 그냥 3이 나와서 20173 이라고 출력되기때문에 앞에 0을 붙여줌\n",
    "        week = '0' + str(intCurrWeek)\n",
    "        \n",
    "    else:week = str(intCurrWeek)  ## 최종적으로 나온 intCurrWeek 도 intCurrYear(년도) 와 합쳐주기 위해 다시 스트링값으로 변환 후\n",
    "                                  ## week 변수에 담음\n",
    "            \n",
    "    return year + week  ## 해당 스트랑값인 year 와 week 합쳐줌"
   ]
  },
  {
   "cell_type": "code",
   "execution_count": 26,
   "metadata": {},
   "outputs": [
    {
     "data": {
      "text/plain": [
       "'201719'"
      ]
     },
     "execution_count": 26,
     "metadata": {},
     "output_type": "execute_result"
    }
   ],
   "source": [
    "preWeek(201730, \"11\")"
   ]
  },
  {
   "cell_type": "code",
   "execution_count": null,
   "metadata": {},
   "outputs": [],
   "source": []
  }
 ],
 "metadata": {
  "kernelspec": {
   "display_name": "Python 3",
   "language": "python",
   "name": "python3"
  },
  "language_info": {
   "codemirror_mode": {
    "name": "ipython",
    "version": 3
   },
   "file_extension": ".py",
   "mimetype": "text/x-python",
   "name": "python",
   "nbconvert_exporter": "python",
   "pygments_lexer": "ipython3",
   "version": "3.7.1"
  }
 },
 "nbformat": 4,
 "nbformat_minor": 2
}
