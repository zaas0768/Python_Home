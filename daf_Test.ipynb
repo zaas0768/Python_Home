{
 "cells": [
  {
   "cell_type": "markdown",
   "metadata": {},
   "source": [
    "## 1. 더하기 함수"
   ]
  },
  {
   "cell_type": "code",
   "execution_count": 38,
   "metadata": {},
   "outputs": [],
   "source": [
    "alist = [\"10\", \"10\", \"10\", \"10\"]\n",
    "blist = [\"20\", \"20\", \"20\", \"20\"]\n",
    "clist = [\"30\", \"30\", \"30\", \"30\"]"
   ]
  },
  {
   "cell_type": "code",
   "execution_count": 25,
   "metadata": {},
   "outputs": [],
   "source": [
    "def sumList(alist):\n",
    "    sum = 0\n",
    "    for i in range(0, len(alist)):\n",
    "        sum = sum + float(alist[i])\n",
    "    return sum    "
   ]
  },
  {
   "cell_type": "code",
   "execution_count": 36,
   "metadata": {},
   "outputs": [
    {
     "name": "stdout",
     "output_type": "stream",
     "text": [
      "120.0\n"
     ]
    }
   ],
   "source": [
    "sumList(alist + blist)"
   ]
  },
  {
   "cell_type": "code",
   "execution_count": null,
   "metadata": {},
   "outputs": [],
   "source": []
  },
  {
   "cell_type": "markdown",
   "metadata": {},
   "source": [
    "## 2. 함수 년도"
   ]
  },
  {
   "cell_type": "code",
   "execution_count": 5,
   "metadata": {},
   "outputs": [],
   "source": [
    "from isoweek import Week"
   ]
  },
  {
   "cell_type": "code",
   "execution_count": 6,
   "metadata": {},
   "outputs": [],
   "source": [
    "curryYear = 2016"
   ]
  },
  {
   "cell_type": "code",
   "execution_count": 7,
   "metadata": {},
   "outputs": [
    {
     "data": {
      "text/plain": [
       "52"
      ]
     },
     "execution_count": 7,
     "metadata": {},
     "output_type": "execute_result"
    }
   ],
   "source": [
    "# 일년에 몇주인지 알수 있는 문법\n",
    "Week.last_week_of_year(curryYear).week"
   ]
  },
  {
   "cell_type": "code",
   "execution_count": 18,
   "metadata": {},
   "outputs": [],
   "source": [
    "def preWeek(inputYearWeek, GapWeek):\n",
    "    if type(GapWeek):\n",
    "        GapWeek = int(GapWeek) # GapWeek를 int형으로 바꿔줌\n",
    "    strYearWeek = str(inputYearWeek) # inputYearWeek를 string으로 바꿔서 새로운 변수 strYearWeek에 넣어줌\n",
    "    currYear = strYearWeek[:4] # strYearWeek 4번째 행을 지정하여 새로운 변수 currYeak에 넣어줌 (년도만 지정됨 0~4)\n",
    "    intCurrYear = int(currYear) # curryYear을 int형으로 바꾼후 새로운 변수 intCurrYear에 넣어줌\n",
    "    currWeek = strYearWeek[-2:] # 이번에는 strYearWeek의 끝에서 2번째 행을 지정하여 currWeek에 넣어줌 (주만 지정됨 ) \n",
    "    intCurrWeek = int(currWeek) # currWeek를 int형으로 바꾼후 새로운 변수 intCurrWeek에 넣어줌\n",
    "    while intCurrWeek <= GapWeek: # 조건문인 while에서 intCurrWeek가 GapWeek 보다 크거나 같을때\n",
    "        intCurrYear -= 1        # intCurrYear에서 1씩 빼주고\n",
    "        GapWeek -= intCurrWeek  # GapWeek에서 intCurrWeek를 빼주며\n",
    "        intCurrWeek = Week.last_week_of_year(intCurrYear).week \n",
    "    intCurrWeek -= GapWeek  # intCurrWeek에 GapWeek를 빼라\n",
    "    year = str(intCurrYear) # intCurrYear을 string으로 바꿔서 새로운 변수 year에 넣어줌\n",
    "    week = str(intCurrWeek) # intCurrWeek도 string로 바꿔서 새로운 변수 week에 넣어줌\n",
    "    return year + week"
   ]
  },
  {
   "cell_type": "code",
   "execution_count": 14,
   "metadata": {},
   "outputs": [
    {
     "data": {
      "text/plain": [
       "'201648'"
      ]
     },
     "execution_count": 14,
     "metadata": {},
     "output_type": "execute_result"
    }
   ],
   "source": [
    "preWeek(\"201701\", 5)"
   ]
  },
  {
   "cell_type": "code",
   "execution_count": 12,
   "metadata": {},
   "outputs": [
    {
     "data": {
      "text/plain": [
       "'201710'"
      ]
     },
     "execution_count": 12,
     "metadata": {},
     "output_type": "execute_result"
    }
   ],
   "source": [
    "preWeek(201720, 10)"
   ]
  },
  {
   "cell_type": "code",
   "execution_count": 13,
   "metadata": {},
   "outputs": [
    {
     "data": {
      "text/plain": [
       "'201525'"
      ]
     },
     "execution_count": 13,
     "metadata": {},
     "output_type": "execute_result"
    }
   ],
   "source": [
    "preWeek(201720, \"100\")"
   ]
  },
  {
   "cell_type": "code",
   "execution_count": null,
   "metadata": {},
   "outputs": [],
   "source": []
  }
 ],
 "metadata": {
  "kernelspec": {
   "display_name": "Python 3",
   "language": "python",
   "name": "python3"
  },
  "language_info": {
   "codemirror_mode": {
    "name": "ipython",
    "version": 3
   },
   "file_extension": ".py",
   "mimetype": "text/x-python",
   "name": "python",
   "nbconvert_exporter": "python",
   "pygments_lexer": "ipython3",
   "version": "3.7.1"
  }
 },
 "nbformat": 4,
 "nbformat_minor": 2
}
