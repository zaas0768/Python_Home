{
 "cells": [
  {
   "cell_type": "code",
   "execution_count": 15,
   "metadata": {},
   "outputs": [],
   "source": [
    "from isoweek import Week "
   ]
  },
  {
   "cell_type": "code",
   "execution_count": 16,
   "metadata": {},
   "outputs": [],
   "source": [
    "curryYear = 2017"
   ]
  },
  {
   "cell_type": "code",
   "execution_count": 17,
   "metadata": {},
   "outputs": [
    {
     "data": {
      "text/plain": [
       "52"
      ]
     },
     "execution_count": 17,
     "metadata": {},
     "output_type": "execute_result"
    }
   ],
   "source": [
    "Week.last_week_of_year(curryYear).week"
   ]
  },
  {
   "cell_type": "code",
   "execution_count": 18,
   "metadata": {},
   "outputs": [],
   "source": [
    "# def preWeek(inputYearWeek, GapWeek):   ## 함수의 인자값 2개 설정, 아래 주석 설명을 위해 201720 , 40 이라고 예를들고 시작.\n",
    "    \n",
    "#     if type(GapWeek) == str:     ## GapWeek 의 타입이 스트링값이라면? 아래로 내려감 스트링값이 아니면 신경안써도 되고~\n",
    "        \n",
    "#         GapWeek = int(GapWeek)   ## 해당 GapWeek 값이 스트링이니까 int 형으로 형변환해주고 GapWeek 라는 변수에 담음\n",
    "        \n",
    "#     strYearWeek = str(inputYearWeek) ## inputYearWeek(201720) 을 스트링 값으로 형변환 해주고 strYearWeek 라는 변수에 담음\n",
    "#                                      ## 왜나하면 ex) inputYearWeek 이 201720 라고 하면 2017 과 20 을 따로 계산해 줘야 하기 때문임\n",
    "#     currYear = strYearWeek[:4]       ## 2017에 해당하는 부분을 가져오기 위해 설정하고(앞에서부터 4칸의 값) currYear 라는 변수에 담음\n",
    "    \n",
    "#     intCurrYear = int(currYear)      ## 현재 스트링 값인 currYear 를 int 형으로 형변환 하고 intCurrYear 에 담아줌. intCurrYear 이제 int형\n",
    "    \n",
    "#     currWeek = strYearWeek[4:]  ## [-2:] , 201720의 뒤에 20 이라는 부분도 잘라서 currWeek 변수에 담아줌. 아직 스트링값임. \n",
    "    \n",
    "#     intCurrWeek = int(currWeek)   ## 스트링 값인 currWeek 을 int 형으로 형변환 이후 intCurrWeek 라는 변수에 담아줌. intCurrWeek 이제 int형\n",
    "    \n",
    "#     while intCurrWeek <= GapWeek: ## 인자값이 201720 과 40 이 들어왔다면, 현재 intCurrWeek 는 20 이고 GapWeek 는 40 이기때문에 while문 실행\n",
    "        \n",
    "#         intCurrYear -= 1  ## 2017년20주에서 40주를 뺀다고 하면, 년도는 2016년이 되고 GapWeek 40에서 intCurrWeek 20주를 빼줘야 하기 때문에\n",
    "#                           ## intCurrYear 즉, 2017년 -1을 해줌.\n",
    "#         GapWeek -= intCurrWeek  ## GapWeek 40주에서 intCurrWeek 20주를 빼주고 그걸 GapWeek 다시 담음. GapWeek는 지금 20임.\n",
    "        \n",
    "#         intCurrWeek = Week.last_week_of_year(intCurrYear).week ## 2016년의 마지막주가 몇주인지 확인해서 그걸 intCurrWeek 에 담아줌\n",
    "#                                                                ## 위에서 GapWeek 40주에서 intCurrWeek 20주를 빼줫기 때문에 \n",
    "#                                                                ## 201720 -> 2016(2016년이 몇주인지.) 를 알아야 하기 때문.\n",
    "                \n",
    "#     intCurrWeek -= GapWeek  ## 위에서 구해진 intCurrWeek 에서 GapWeek 를 다시 빼주면 GapWeek는 0 이 될테고, intCurrWeek 최종값이 결정됨.                                        \n",
    "    \n",
    "#     year = str(intCurrYear) ## intCurrYear 을 다시 스트링값으로 형변환 해주고(2017 과 20 을 잘라서 진행하고, 마지막엔 다시 합쳐야 해서) \n",
    "#                             ## 형변환 해준 intCurrYear 를 year 변수에 담음 \n",
    "        \n",
    "#     if intCurrWeek< 10:     ## 예외처리임 intCurrWeek 가 한자리 숫자면 앞에 0이 없이 출력되기 때문.\n",
    "#                             ## ex) 201703 처럼 3주면 03이라고 나와야하는데 그냥 3이 나와서 20173 이라고 출력되기때문에 앞에 0을 붙여줌\n",
    "#         week = '0' + str(intCurrWeek)\n",
    "        \n",
    "#     else:week = str(intCurrWeek)  ## 최종적으로 나온 intCurrWeek 도 intCurrYear(년도) 와 합쳐주기 위해 다시 스트링값으로 변환 후\n",
    "#                                   ## week 변수에 담음\n",
    "            \n",
    "#     return year + week  ## 해당 스트랑값인 year 와 week 합쳐줌"
   ]
  },
  {
   "cell_type": "code",
   "execution_count": 19,
   "metadata": {},
   "outputs": [],
   "source": [
    "def preWeek(inputYearWeek, GapWeek):\n",
    "    \n",
    "    if type(GapWeek) == str:\n",
    "        \n",
    "        GapWeek = int(GapWeek)\n",
    "    \n",
    "    strYearWeek = str(inputYearWeek)\n",
    "    \n",
    "    currYear = strYearWeek[:4]\n",
    "    \n",
    "    intCurrYear = int(currYear)\n",
    "    \n",
    "    currWeek = strYearWeek[4:]\n",
    "    \n",
    "    intCurrWeek = int(currWeek)\n",
    "    \n",
    "    while intCurrWeek <= GapWeek:\n",
    "        \n",
    "        intCurrYear -= 1\n",
    "        \n",
    "        GapWeek -= intCurrWeek\n",
    "        \n",
    "        intCurrWeek = Week.last_week_of_year(intCurrYear).week\n",
    "        \n",
    "    intCurrWeek -= GapWeek\n",
    "        \n",
    "    year = str(intCurrYear)\n",
    "    \n",
    "    if intCurrWeek < 10:\n",
    "        week = '0' + str(intCurrWeek)\n",
    "    else: \n",
    "        week = str(intCurrWeek)\n",
    "        \n",
    "    return year + week"
   ]
  },
  {
   "cell_type": "code",
   "execution_count": 23,
   "metadata": {},
   "outputs": [
    {
     "data": {
      "text/plain": [
       "'201724'"
      ]
     },
     "execution_count": 23,
     "metadata": {},
     "output_type": "execute_result"
    }
   ],
   "source": [
    "preWeek(\"201733\", 9)"
   ]
  },
  {
   "cell_type": "code",
   "execution_count": 21,
   "metadata": {},
   "outputs": [
    {
     "data": {
      "text/plain": [
       "'201705'"
      ]
     },
     "execution_count": 21,
     "metadata": {},
     "output_type": "execute_result"
    }
   ],
   "source": [
    "preWeek(201720, \"15\")"
   ]
  },
  {
   "cell_type": "code",
   "execution_count": 22,
   "metadata": {},
   "outputs": [
    {
     "data": {
      "text/plain": [
       "'201702'"
      ]
     },
     "execution_count": 22,
     "metadata": {},
     "output_type": "execute_result"
    }
   ],
   "source": [
    "preWeek(201706, 4)"
   ]
  },
  {
   "cell_type": "code",
   "execution_count": null,
   "metadata": {},
   "outputs": [],
   "source": []
  },
  {
   "cell_type": "code",
   "execution_count": null,
   "metadata": {},
   "outputs": [],
   "source": [
    "def preWeek(inputYearWeek, GapWeek):\n",
    "    if type (GapWeek) == str:\n",
    "        GapWeek = int(GapWeek)\n",
    "    else :\n",
    "        GapWeek = GapWeek\n",
    "    strYearWeek = str(inputYearWeek)\n",
    "    currYear = strYearWeek[:4]\n",
    "    intCurrYear = int(intCurrYear)\n",
    "    currWeek = strYearWeek[4:]\n",
    "    intCurrWeek = int(currWeek)\n",
    "    while intCurrWeek <= GapWeek:\n",
    "        intCurrYear -=1\n",
    "        GpaWeek -= intCurrWeek \n",
    "        intCurrWeek = Week.last_week_of_year(intCurrYear).week\n",
    "    intCurrWeek -= GapWeek\n",
    "    year = str(intCurrYear)\n",
    "    if intCurrWeek < 10:\n",
    "        week = '0' + str(intCurrWeek)\n",
    "    else :\n",
    "        week = str(intCrrWeek)\n",
    "    \n",
    "    return year + week   "
   ]
  },
  {
   "cell_type": "code",
   "execution_count": null,
   "metadata": {},
   "outputs": [],
   "source": []
  }
 ],
 "metadata": {
  "kernelspec": {
   "display_name": "Python 3",
   "language": "python",
   "name": "python3"
  },
  "language_info": {
   "codemirror_mode": {
    "name": "ipython",
    "version": 3
   },
   "file_extension": ".py",
   "mimetype": "text/x-python",
   "name": "python",
   "nbconvert_exporter": "python",
   "pygments_lexer": "ipython3",
   "version": "3.7.1"
  }
 },
 "nbformat": 4,
 "nbformat_minor": 2
}
