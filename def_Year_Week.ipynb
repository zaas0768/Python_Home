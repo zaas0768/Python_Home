{
 "cells": [
  {
   "cell_type": "code",
   "execution_count": 1,
   "metadata": {},
   "outputs": [],
   "source": [
    "from isoweek import Week"
   ]
  },
  {
   "cell_type": "code",
   "execution_count": 2,
   "metadata": {},
   "outputs": [],
   "source": [
    "curryYear = 2017"
   ]
  },
  {
   "cell_type": "code",
   "execution_count": 3,
   "metadata": {},
   "outputs": [
    {
     "data": {
      "text/plain": [
       "52"
      ]
     },
     "execution_count": 3,
     "metadata": {},
     "output_type": "execute_result"
    }
   ],
   "source": [
    "Week.last_week_of_year(curryYear).week"
   ]
  },
  {
   "cell_type": "code",
   "execution_count": 12,
   "metadata": {},
   "outputs": [],
   "source": [
    "def preWeek(inputYearWeek, GapWeek):\n",
    "    if type (GapWeek) == str:\n",
    "        GapWeek = int(GapWeek)\n",
    "    else :\n",
    "        GapWeek = GapWeek\n",
    "    strYearWeek = str(inputYearWeek)\n",
    "    currYear = strYearWeek[:4]\n",
    "    intCurrYear = int(currYear)\n",
    "    currWeek = strYearWeek[4:]\n",
    "    intCurrWeek = int(currWeek)\n",
    "    while intCurrWeek <= GapWeek:\n",
    "        intCurrYear -=1\n",
    "        GapWeek -= intCurrWeek \n",
    "        intCurrWeek = Week.last_week_of_year(intCurrYear).week\n",
    "    intCurrWeek -= GapWeek\n",
    "    year = str(intCurrYear)\n",
    "    if intCurrWeek < 10:\n",
    "        week = '0' + str(intCurrWeek)\n",
    "    else :\n",
    "        week = str(intCurrWeek)\n",
    "    \n",
    "    return year + week   "
   ]
  },
  {
   "cell_type": "code",
   "execution_count": 14,
   "metadata": {},
   "outputs": [
    {
     "data": {
      "text/plain": [
       "'201706'"
      ]
     },
     "execution_count": 14,
     "metadata": {},
     "output_type": "execute_result"
    }
   ],
   "source": [
    "preWeek(\"201711\", 5)"
   ]
  },
  {
   "cell_type": "code",
   "execution_count": null,
   "metadata": {},
   "outputs": [],
   "source": []
  },
  {
   "cell_type": "code",
   "execution_count": null,
   "metadata": {},
   "outputs": [],
   "source": []
  }
 ],
 "metadata": {
  "kernelspec": {
   "display_name": "Python 3",
   "language": "python",
   "name": "python3"
  },
  "language_info": {
   "codemirror_mode": {
    "name": "ipython",
    "version": 3
   },
   "file_extension": ".py",
   "mimetype": "text/x-python",
   "name": "python",
   "nbconvert_exporter": "python",
   "pygments_lexer": "ipython3",
   "version": "3.7.1"
  }
 },
 "nbformat": 4,
 "nbformat_minor": 2
}
